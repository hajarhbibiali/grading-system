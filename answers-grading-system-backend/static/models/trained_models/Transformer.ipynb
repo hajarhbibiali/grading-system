{
 "cells": [
  {
   "cell_type": "code",
   "execution_count": 1,
   "id": "753a6709",
   "metadata": {
    "execution": {
     "iopub.execute_input": "2024-01-05T04:13:09.127437Z",
     "iopub.status.busy": "2024-01-05T04:13:09.126383Z",
     "iopub.status.idle": "2024-01-05T04:13:40.801500Z",
     "shell.execute_reply": "2024-01-05T04:13:40.800222Z"
    },
    "papermill": {
     "duration": 31.690757,
     "end_time": "2024-01-05T04:13:40.804400",
     "exception": false,
     "start_time": "2024-01-05T04:13:09.113643",
     "status": "completed"
    },
    "tags": []
   },
   "outputs": [
    {
     "name": "stdout",
     "output_type": "stream",
     "text": [
      "Requirement already satisfied: nltk in c:\\users\\chaimae\\appdata\\local\\programs\\python\\python310\\lib\\site-packages (3.8.1)\n",
      "Requirement already satisfied: click in c:\\users\\chaimae\\appdata\\local\\programs\\python\\python310\\lib\\site-packages (from nltk) (8.1.7)\n",
      "Requirement already satisfied: joblib in c:\\users\\chaimae\\appdata\\local\\programs\\python\\python310\\lib\\site-packages (from nltk) (1.3.2)\n",
      "Requirement already satisfied: regex>=2021.8.3 in c:\\users\\chaimae\\appdata\\local\\programs\\python\\python310\\lib\\site-packages (from nltk) (2023.12.25)\n",
      "Requirement already satisfied: tqdm in c:\\users\\chaimae\\appdata\\local\\programs\\python\\python310\\lib\\site-packages (from nltk) (4.66.1)\n",
      "Requirement already satisfied: colorama in c:\\users\\chaimae\\appdata\\roaming\\python\\python310\\site-packages (from click->nltk) (0.4.6)\n",
      "Requirement already satisfied: nltk in c:\\users\\chaimae\\appdata\\local\\programs\\python\\python310\\lib\\site-packages (3.8.1)\n",
      "Requirement already satisfied: click in c:\\users\\chaimae\\appdata\\local\\programs\\python\\python310\\lib\\site-packages (from nltk) (8.1.7)\n",
      "Requirement already satisfied: joblib in c:\\users\\chaimae\\appdata\\local\\programs\\python\\python310\\lib\\site-packages (from nltk) (1.3.2)\n",
      "Requirement already satisfied: regex>=2021.8.3 in c:\\users\\chaimae\\appdata\\local\\programs\\python\\python310\\lib\\site-packages (from nltk) (2023.12.25)\n",
      "Requirement already satisfied: tqdm in c:\\users\\chaimae\\appdata\\local\\programs\\python\\python310\\lib\\site-packages (from nltk) (4.66.1)\n",
      "Requirement already satisfied: colorama in c:\\users\\chaimae\\appdata\\roaming\\python\\python310\\site-packages (from click->nltk) (0.4.6)\n"
     ]
    }
   ],
   "source": [
    "!pip install nltk\n",
    "\n",
    "!pip3 install -U nltk"
   ]
  },
  {
   "cell_type": "code",
   "execution_count": 2,
   "id": "0481eae2",
   "metadata": {
    "execution": {
     "iopub.execute_input": "2024-01-05T04:13:40.829736Z",
     "iopub.status.busy": "2024-01-05T04:13:40.829279Z",
     "iopub.status.idle": "2024-01-05T04:14:24.233855Z",
     "shell.execute_reply": "2024-01-05T04:14:24.232585Z"
    },
    "papermill": {
     "duration": 43.420385,
     "end_time": "2024-01-05T04:14:24.236421",
     "exception": false,
     "start_time": "2024-01-05T04:13:40.816036",
     "status": "completed"
    },
    "tags": []
   },
   "outputs": [
    {
     "name": "stdout",
     "output_type": "stream",
     "text": [
      "WARNING:tensorflow:From c:\\Users\\chaimae\\AppData\\Local\\Programs\\Python\\Python310\\lib\\site-packages\\keras\\src\\losses.py:2976: The name tf.losses.sparse_softmax_cross_entropy is deprecated. Please use tf.compat.v1.losses.sparse_softmax_cross_entropy instead.\n",
      "\n"
     ]
    }
   ],
   "source": [
    "import pandas as pd\n",
    "import os\n",
    "from tensorflow.keras import layers\n",
    "import tensorflow as tf\n",
    "import numpy as np\n",
    "import re\n",
    "import nltk\n",
    "import seaborn as sns\n",
    "import matplotlib.pyplot as plt\n",
    "from nltk.corpus import stopwords\n",
    "from nltk.tokenize import word_tokenize\n",
    "from nltk.stem.wordnet import WordNetLemmatizer\n",
    "from nltk.tag.perceptron import PerceptronTagger\n",
    "from nltk.stem import SnowballStemmer\n",
    "from gensim.models import Word2Vec\n",
    "import tensorflow as tf\n",
    "from tensorflow import keras\n",
    "from tensorflow.keras import layers\n",
    "import pandas as pd\n",
    "import os\n",
    "import numpy as np\n",
    "from keras import utils\n",
    "from tensorflow.keras.callbacks import TensorBoard\n",
    "from time import time\n",
    "\n"
   ]
  },
  {
   "cell_type": "code",
   "execution_count": 3,
   "id": "26e3791e",
   "metadata": {},
   "outputs": [
    {
     "name": "stderr",
     "output_type": "stream",
     "text": [
      "[nltk_data] Downloading package wordnet to\n",
      "[nltk_data]     C:\\Users\\chaimae\\AppData\\Roaming\\nltk_data...\n",
      "[nltk_data]   Package wordnet is already up-to-date!\n",
      "[nltk_data] Downloading package stopwords to\n",
      "[nltk_data]     C:\\Users\\chaimae\\AppData\\Roaming\\nltk_data...\n",
      "[nltk_data]   Package stopwords is already up-to-date!\n"
     ]
    }
   ],
   "source": [
    "\n",
    "nltk.download('wordnet')\n",
    "\n",
    "nltk.download('stopwords')\n",
    "# stop words\n",
    "arb_stopwords = set(nltk.corpus.stopwords.words(\"arabic\"))\n"
   ]
  },
  {
   "cell_type": "code",
   "execution_count": 5,
   "id": "9c04d1ae",
   "metadata": {
    "execution": {
     "iopub.execute_input": "2024-01-05T04:14:24.261749Z",
     "iopub.status.busy": "2024-01-05T04:14:24.260949Z",
     "iopub.status.idle": "2024-01-05T04:14:24.287061Z",
     "shell.execute_reply": "2024-01-05T04:14:24.285765Z"
    },
    "papermill": {
     "duration": 0.041552,
     "end_time": "2024-01-05T04:14:24.289594",
     "exception": false,
     "start_time": "2024-01-05T04:14:24.248042",
     "status": "completed"
    },
    "tags": []
   },
   "outputs": [
    {
     "data": {
      "text/html": [
       "<div>\n",
       "<style scoped>\n",
       "    .dataframe tbody tr th:only-of-type {\n",
       "        vertical-align: middle;\n",
       "    }\n",
       "\n",
       "    .dataframe tbody tr th {\n",
       "        vertical-align: top;\n",
       "    }\n",
       "\n",
       "    .dataframe thead th {\n",
       "        text-align: right;\n",
       "    }\n",
       "</style>\n",
       "<table border=\"1\" class=\"dataframe\">\n",
       "  <thead>\n",
       "    <tr style=\"text-align: right;\">\n",
       "      <th></th>\n",
       "      <th>question_id</th>\n",
       "      <th>answer</th>\n",
       "      <th>grade</th>\n",
       "    </tr>\n",
       "  </thead>\n",
       "  <tbody>\n",
       "    <tr>\n",
       "      <th>0</th>\n",
       "      <td>1</td>\n",
       "      <td>محمد صلى الله عليه وسلم</td>\n",
       "      <td>2.0</td>\n",
       "    </tr>\n",
       "    <tr>\n",
       "      <th>1</th>\n",
       "      <td>1</td>\n",
       "      <td>خاتم الأنبياء</td>\n",
       "      <td>2.0</td>\n",
       "    </tr>\n",
       "    <tr>\n",
       "      <th>2</th>\n",
       "      <td>1</td>\n",
       "      <td>الرسول الأعظم</td>\n",
       "      <td>2.0</td>\n",
       "    </tr>\n",
       "    <tr>\n",
       "      <th>3</th>\n",
       "      <td>1</td>\n",
       "      <td>سيد المرسلين</td>\n",
       "      <td>2.0</td>\n",
       "    </tr>\n",
       "    <tr>\n",
       "      <th>4</th>\n",
       "      <td>1</td>\n",
       "      <td>صاحب الرسالة الخاتمة</td>\n",
       "      <td>2.0</td>\n",
       "    </tr>\n",
       "    <tr>\n",
       "      <th>...</th>\n",
       "      <td>...</td>\n",
       "      <td>...</td>\n",
       "      <td>...</td>\n",
       "    </tr>\n",
       "    <tr>\n",
       "      <th>986</th>\n",
       "      <td>10</td>\n",
       "      <td>الكهف</td>\n",
       "      <td>0.0</td>\n",
       "    </tr>\n",
       "    <tr>\n",
       "      <th>987</th>\n",
       "      <td>10</td>\n",
       "      <td>الفرقان</td>\n",
       "      <td>0.0</td>\n",
       "    </tr>\n",
       "    <tr>\n",
       "      <th>988</th>\n",
       "      <td>10</td>\n",
       "      <td>آل عمران</td>\n",
       "      <td>0.0</td>\n",
       "    </tr>\n",
       "    <tr>\n",
       "      <th>989</th>\n",
       "      <td>10</td>\n",
       "      <td>الإسراء</td>\n",
       "      <td>0.0</td>\n",
       "    </tr>\n",
       "    <tr>\n",
       "      <th>990</th>\n",
       "      <td>10</td>\n",
       "      <td>مريم</td>\n",
       "      <td>0.0</td>\n",
       "    </tr>\n",
       "  </tbody>\n",
       "</table>\n",
       "<p>991 rows × 3 columns</p>\n",
       "</div>"
      ],
      "text/plain": [
       "     question_id                   answer  grade\n",
       "0              1  محمد صلى الله عليه وسلم    2.0\n",
       "1              1            خاتم الأنبياء    2.0\n",
       "2              1            الرسول الأعظم    2.0\n",
       "3              1             سيد المرسلين    2.0\n",
       "4              1     صاحب الرسالة الخاتمة    2.0\n",
       "..           ...                      ...    ...\n",
       "986           10                    الكهف    0.0\n",
       "987           10                  الفرقان    0.0\n",
       "988           10                 آل عمران    0.0\n",
       "989           10                  الإسراء    0.0\n",
       "990           10                     مريم    0.0\n",
       "\n",
       "[991 rows x 3 columns]"
      ]
     },
     "execution_count": 5,
     "metadata": {},
     "output_type": "execute_result"
    }
   ],
   "source": [
    "answers = pd.read_csv(\"../datasets/answers.csv\", encoding='utf-8')\n",
    "answers"
   ]
  },
  {
   "cell_type": "code",
   "execution_count": 5,
   "id": "341117ef",
   "metadata": {
    "execution": {
     "iopub.execute_input": "2024-01-05T04:14:24.314932Z",
     "iopub.status.busy": "2024-01-05T04:14:24.314496Z",
     "iopub.status.idle": "2024-01-05T04:14:24.331784Z",
     "shell.execute_reply": "2024-01-05T04:14:24.330662Z"
    },
    "papermill": {
     "duration": 0.032954,
     "end_time": "2024-01-05T04:14:24.334262",
     "exception": false,
     "start_time": "2024-01-05T04:14:24.301308",
     "status": "completed"
    },
    "tags": []
   },
   "outputs": [],
   "source": [
    "# Supprimer les lignes avec des valeurs manquantes\n",
    "answers['answer'].isnull().sum()\n",
    "answers.dropna(inplace=True)"
   ]
  },
  {
   "cell_type": "code",
   "execution_count": 6,
   "id": "ff9c17d4",
   "metadata": {
    "execution": {
     "iopub.execute_input": "2024-01-05T04:14:24.382543Z",
     "iopub.status.busy": "2024-01-05T04:14:24.381971Z",
     "iopub.status.idle": "2024-01-05T04:14:24.389002Z",
     "shell.execute_reply": "2024-01-05T04:14:24.388073Z"
    },
    "papermill": {
     "duration": 0.022508,
     "end_time": "2024-01-05T04:14:24.391182",
     "exception": false,
     "start_time": "2024-01-05T04:14:24.368674",
     "status": "completed"
    },
    "tags": []
   },
   "outputs": [],
   "source": [
    "# Convertir 'grade' en int64 \n",
    "answers['grade'] = answers['grade'].astype(int)\n",
    "# Conversion 'question' et 'answer' en type 'str' \n",
    "answers['answer'] = answers['answer'].astype(str)"
   ]
  },
  {
   "cell_type": "code",
   "execution_count": 7,
   "id": "aee8dbd8",
   "metadata": {
    "execution": {
     "iopub.execute_input": "2024-01-05T04:14:24.416251Z",
     "iopub.status.busy": "2024-01-05T04:14:24.415859Z",
     "iopub.status.idle": "2024-01-05T04:14:24.432950Z",
     "shell.execute_reply": "2024-01-05T04:14:24.431988Z"
    },
    "papermill": {
     "duration": 0.03298,
     "end_time": "2024-01-05T04:14:24.435617",
     "exception": false,
     "start_time": "2024-01-05T04:14:24.402637",
     "status": "completed"
    },
    "tags": []
   },
   "outputs": [],
   "source": [
    "# Suppression des doublons :\n",
    "answers.drop_duplicates(inplace=True)\n",
    "#définir 'id_question' comme index\n",
    "answers.set_index('question_id', inplace=True)"
   ]
  },
  {
   "cell_type": "code",
   "execution_count": 8,
   "id": "658cf3f2",
   "metadata": {
    "execution": {
     "iopub.execute_input": "2024-01-05T04:14:24.461726Z",
     "iopub.status.busy": "2024-01-05T04:14:24.460861Z",
     "iopub.status.idle": "2024-01-05T04:14:24.741122Z",
     "shell.execute_reply": "2024-01-05T04:14:24.739957Z"
    },
    "papermill": {
     "duration": 0.296236,
     "end_time": "2024-01-05T04:14:24.743627",
     "exception": false,
     "start_time": "2024-01-05T04:14:24.447391",
     "status": "completed"
    },
    "tags": []
   },
   "outputs": [
    {
     "data": {
      "image/png": "[encoded data removed]",
      "text/plain": [
       "<Figure size 640x480 with 1 Axes>"
      ]
     },
     "metadata": {},
     "output_type": "display_data"
    }
   ],
   "source": [
    "# Distribution des scores\n",
    "sns.countplot(x='grade', data=answers)\n",
    "plt.title('Distribution des Scores')\n",
    "plt.show()"
   ]
  },
  {
   "cell_type": "code",
   "execution_count": 9,
   "id": "ac075705",
   "metadata": {
    "execution": {
     "iopub.execute_input": "2024-01-05T04:14:24.770325Z",
     "iopub.status.busy": "2024-01-05T04:14:24.769486Z",
     "iopub.status.idle": "2024-01-05T04:14:24.778870Z",
     "shell.execute_reply": "2024-01-05T04:14:24.777797Z"
    },
    "papermill": {
     "duration": 0.025459,
     "end_time": "2024-01-05T04:14:24.781415",
     "exception": false,
     "start_time": "2024-01-05T04:14:24.755956",
     "status": "completed"
    },
    "tags": []
   },
   "outputs": [],
   "source": [
    "# Function to clean text\n",
    "def clean_text(text):\n",
    "    # Define the characters you want to remove\n",
    "    characters_to_remove = [\"''\", ':', '؟']\n",
    "\n",
    "    # Remove specified characters\n",
    "    for char in characters_to_remove:\n",
    "        text = text.replace(char, '')\n",
    "\n",
    "    # Remove `` and ''\n",
    "    text = text.replace('``', '').replace(\"''\", '')\n",
    "\n",
    "    return text\n",
    "\n",
    "\n",
    "\n",
    "# Apply the clean_text function to the 'answer' column in the 'answers' DataFrame\n",
    "answers['answer'] = answers['answer'].apply(clean_text)\n"
   ]
  },
  {
   "cell_type": "code",
   "execution_count": 10,
   "id": "c3d599e6",
   "metadata": {
    "execution": {
     "iopub.execute_input": "2024-01-05T04:14:24.807829Z",
     "iopub.status.busy": "2024-01-05T04:14:24.807394Z",
     "iopub.status.idle": "2024-01-05T04:14:24.823341Z",
     "shell.execute_reply": "2024-01-05T04:14:24.822227Z"
    },
    "papermill": {
     "duration": 0.032398,
     "end_time": "2024-01-05T04:14:24.825853",
     "exception": false,
     "start_time": "2024-01-05T04:14:24.793455",
     "status": "completed"
    },
    "tags": []
   },
   "outputs": [
    {
     "data": {
      "text/html": [
       "<div>\n",
       "<style scoped>\n",
       "    .dataframe tbody tr th:only-of-type {\n",
       "        vertical-align: middle;\n",
       "    }\n",
       "\n",
       "    .dataframe tbody tr th {\n",
       "        vertical-align: top;\n",
       "    }\n",
       "\n",
       "    .dataframe thead th {\n",
       "        text-align: right;\n",
       "    }\n",
       "</style>\n",
       "<table border=\"1\" class=\"dataframe\">\n",
       "  <thead>\n",
       "    <tr style=\"text-align: right;\">\n",
       "      <th></th>\n",
       "      <th>answer</th>\n",
       "      <th>grade</th>\n",
       "    </tr>\n",
       "    <tr>\n",
       "      <th>question_id</th>\n",
       "      <th></th>\n",
       "      <th></th>\n",
       "    </tr>\n",
       "  </thead>\n",
       "  <tbody>\n",
       "    <tr>\n",
       "      <th>1</th>\n",
       "      <td>محمد صلى الله عليه وسلم</td>\n",
       "      <td>2</td>\n",
       "    </tr>\n",
       "    <tr>\n",
       "      <th>1</th>\n",
       "      <td>خاتم الأنبياء</td>\n",
       "      <td>2</td>\n",
       "    </tr>\n",
       "    <tr>\n",
       "      <th>1</th>\n",
       "      <td>الرسول الأعظم</td>\n",
       "      <td>2</td>\n",
       "    </tr>\n",
       "    <tr>\n",
       "      <th>1</th>\n",
       "      <td>سيد المرسلين</td>\n",
       "      <td>2</td>\n",
       "    </tr>\n",
       "    <tr>\n",
       "      <th>1</th>\n",
       "      <td>صاحب الرسالة الخاتمة</td>\n",
       "      <td>2</td>\n",
       "    </tr>\n",
       "    <tr>\n",
       "      <th>1</th>\n",
       "      <td>النبي الذي لا يبعث بعده نبي</td>\n",
       "      <td>2</td>\n",
       "    </tr>\n",
       "    <tr>\n",
       "      <th>1</th>\n",
       "      <td>صاحب الشريعة الخاتمة</td>\n",
       "      <td>2</td>\n",
       "    </tr>\n",
       "    <tr>\n",
       "      <th>1</th>\n",
       "      <td>نبي الله الذي أرسله الله إلى جميع الناس، وختم ...</td>\n",
       "      <td>2</td>\n",
       "    </tr>\n",
       "    <tr>\n",
       "      <th>1</th>\n",
       "      <td>النبي الذي أكرمه الله بآيات كثيرة في القرآن ال...</td>\n",
       "      <td>2</td>\n",
       "    </tr>\n",
       "    <tr>\n",
       "      <th>1</th>\n",
       "      <td>نبي الله الذي أقام العدل بين الناس</td>\n",
       "      <td>2</td>\n",
       "    </tr>\n",
       "  </tbody>\n",
       "</table>\n",
       "</div>"
      ],
      "text/plain": [
       "                                                        answer  grade\n",
       "question_id                                                          \n",
       "1                                      محمد صلى الله عليه وسلم      2\n",
       "1                                                خاتم الأنبياء      2\n",
       "1                                                الرسول الأعظم      2\n",
       "1                                                 سيد المرسلين      2\n",
       "1                                         صاحب الرسالة الخاتمة      2\n",
       "1                                  النبي الذي لا يبعث بعده نبي      2\n",
       "1                                         صاحب الشريعة الخاتمة      2\n",
       "1            نبي الله الذي أرسله الله إلى جميع الناس، وختم ...      2\n",
       "1            النبي الذي أكرمه الله بآيات كثيرة في القرآن ال...      2\n",
       "1                           نبي الله الذي أقام العدل بين الناس      2"
      ]
     },
     "execution_count": 10,
     "metadata": {},
     "output_type": "execute_result"
    }
   ],
   "source": [
    "answers.head(10)"
   ]
  },
  {
   "cell_type": "code",
   "execution_count": 11,
   "id": "75f3b499",
   "metadata": {
    "execution": {
     "iopub.execute_input": "2024-01-05T04:14:24.852630Z",
     "iopub.status.busy": "2024-01-05T04:14:24.851837Z",
     "iopub.status.idle": "2024-01-05T04:14:38.904156Z",
     "shell.execute_reply": "2024-01-05T04:14:38.903005Z"
    },
    "papermill": {
     "duration": 14.068934,
     "end_time": "2024-01-05T04:14:38.906976",
     "exception": false,
     "start_time": "2024-01-05T04:14:24.838042",
     "status": "completed"
    },
    "tags": []
   },
   "outputs": [
    {
     "name": "stdout",
     "output_type": "stream",
     "text": [
      "Requirement already satisfied: nltk in c:\\users\\chaimae\\appdata\\local\\programs\\python\\python310\\lib\\site-packages (3.8.1)\n",
      "Requirement already satisfied: click in c:\\users\\chaimae\\appdata\\local\\programs\\python\\python310\\lib\\site-packages (from nltk) (8.1.7)\n",
      "Requirement already satisfied: joblib in c:\\users\\chaimae\\appdata\\local\\programs\\python\\python310\\lib\\site-packages (from nltk) (1.3.2)\n",
      "Requirement already satisfied: regex>=2021.8.3 in c:\\users\\chaimae\\appdata\\local\\programs\\python\\python310\\lib\\site-packages (from nltk) (2023.12.25)\n",
      "Requirement already satisfied: tqdm in c:\\users\\chaimae\\appdata\\local\\programs\\python\\python310\\lib\\site-packages (from nltk) (4.66.1)\n",
      "Requirement already satisfied: colorama in c:\\users\\chaimae\\appdata\\roaming\\python\\python310\\site-packages (from click->nltk) (0.4.6)\n"
     ]
    }
   ],
   "source": [
    "!pip install -U nltk"
   ]
  },
  {
   "cell_type": "code",
   "execution_count": 12,
   "id": "7fa315c9",
   "metadata": {
    "execution": {
     "iopub.execute_input": "2024-01-05T04:14:38.934749Z",
     "iopub.status.busy": "2024-01-05T04:14:38.934282Z",
     "iopub.status.idle": "2024-01-05T04:14:38.941827Z",
     "shell.execute_reply": "2024-01-05T04:14:38.940653Z"
    },
    "papermill": {
     "duration": 0.024747,
     "end_time": "2024-01-05T04:14:38.944697",
     "exception": false,
     "start_time": "2024-01-05T04:14:38.919950",
     "status": "completed"
    },
    "tags": []
   },
   "outputs": [],
   "source": [
    "stu_answers = answers['answer']\n",
    "scores = answers['grade']\n",
    "scores = tf.keras.utils.to_categorical(\n",
    "    scores, num_classes=3, dtype='float32'\n",
    ")\n"
   ]
  },
  {
   "cell_type": "code",
   "execution_count": 13,
   "id": "12981646",
   "metadata": {
    "execution": {
     "iopub.execute_input": "2024-01-05T04:14:38.971841Z",
     "iopub.status.busy": "2024-01-05T04:14:38.971426Z",
     "iopub.status.idle": "2024-01-05T04:14:41.699251Z",
     "shell.execute_reply": "2024-01-05T04:14:41.698318Z"
    },
    "papermill": {
     "duration": 2.744671,
     "end_time": "2024-01-05T04:14:41.701976",
     "exception": false,
     "start_time": "2024-01-05T04:14:38.957305",
     "status": "completed"
    },
    "tags": []
   },
   "outputs": [],
   "source": [
    "from nltk.stem.arlstem import ARLSTem\n",
    "stemmer = ARLSTem()\n",
    "# Function to clean and preprocess text\n",
    "def preprocess_text(text):\n",
    "    # Tokenization\n",
    "    tokens = word_tokenize(text.strip())\n",
    "\n",
    "    # Removal of stop words\n",
    "    tokens = [word for word in tokens if word not in arb_stopwords]\n",
    "\n",
    "    # Stemming\n",
    "    tokens = [stemmer.stem(word) for word in tokens]\n",
    "\n",
    "    # Lemmatization\n",
    "    lemmatized_tokens = [WordNetLemmatizer().lemmatize(word) for word in tokens]\n",
    "\n",
    "    # Concatenate tokens into a single string\n",
    "    preprocessed_text = ' '.join(lemmatized_tokens)\n",
    "\n",
    "    return preprocessed_text, lemmatized_tokens\n",
    "\n",
    "answers['answer'], answers['answer'] = zip(*answers['answer'].apply(preprocess_text))\n"
   ]
  },
  {
   "cell_type": "code",
   "execution_count": 14,
   "id": "95e96024",
   "metadata": {
    "execution": {
     "iopub.execute_input": "2024-01-05T04:14:41.729008Z",
     "iopub.status.busy": "2024-01-05T04:14:41.728626Z",
     "iopub.status.idle": "2024-01-05T04:14:41.745792Z",
     "shell.execute_reply": "2024-01-05T04:14:41.744619Z"
    },
    "papermill": {
     "duration": 0.03359,
     "end_time": "2024-01-05T04:14:41.748225",
     "exception": false,
     "start_time": "2024-01-05T04:14:41.714635",
     "status": "completed"
    },
    "tags": []
   },
   "outputs": [
    {
     "data": {
      "text/html": [
       "<div>\n",
       "<style scoped>\n",
       "    .dataframe tbody tr th:only-of-type {\n",
       "        vertical-align: middle;\n",
       "    }\n",
       "\n",
       "    .dataframe tbody tr th {\n",
       "        vertical-align: top;\n",
       "    }\n",
       "\n",
       "    .dataframe thead th {\n",
       "        text-align: right;\n",
       "    }\n",
       "</style>\n",
       "<table border=\"1\" class=\"dataframe\">\n",
       "  <thead>\n",
       "    <tr style=\"text-align: right;\">\n",
       "      <th></th>\n",
       "      <th>answer</th>\n",
       "      <th>grade</th>\n",
       "    </tr>\n",
       "    <tr>\n",
       "      <th>question_id</th>\n",
       "      <th></th>\n",
       "      <th></th>\n",
       "    </tr>\n",
       "  </thead>\n",
       "  <tbody>\n",
       "    <tr>\n",
       "      <th>1</th>\n",
       "      <td>[محمد, صلي, الل, سلم]</td>\n",
       "      <td>2</td>\n",
       "    </tr>\n",
       "    <tr>\n",
       "      <th>1</th>\n",
       "      <td>[خاتم, نبيء]</td>\n",
       "      <td>2</td>\n",
       "    </tr>\n",
       "    <tr>\n",
       "      <th>1</th>\n",
       "      <td>[رسول, اعظم]</td>\n",
       "      <td>2</td>\n",
       "    </tr>\n",
       "    <tr>\n",
       "      <th>1</th>\n",
       "      <td>[سيد, مرسل]</td>\n",
       "      <td>2</td>\n",
       "    </tr>\n",
       "    <tr>\n",
       "      <th>1</th>\n",
       "      <td>[صاحب, رسال, خاتم]</td>\n",
       "      <td>2</td>\n",
       "    </tr>\n",
       "    <tr>\n",
       "      <th>...</th>\n",
       "      <td>...</td>\n",
       "      <td>...</td>\n",
       "    </tr>\n",
       "    <tr>\n",
       "      <th>10</th>\n",
       "      <td>[كهف]</td>\n",
       "      <td>0</td>\n",
       "    </tr>\n",
       "    <tr>\n",
       "      <th>10</th>\n",
       "      <td>[فرق]</td>\n",
       "      <td>0</td>\n",
       "    </tr>\n",
       "    <tr>\n",
       "      <th>10</th>\n",
       "      <td>[ال, عمر]</td>\n",
       "      <td>0</td>\n",
       "    </tr>\n",
       "    <tr>\n",
       "      <th>10</th>\n",
       "      <td>[سرء]</td>\n",
       "      <td>0</td>\n",
       "    </tr>\n",
       "    <tr>\n",
       "      <th>10</th>\n",
       "      <td>[مريم]</td>\n",
       "      <td>0</td>\n",
       "    </tr>\n",
       "  </tbody>\n",
       "</table>\n",
       "<p>870 rows × 2 columns</p>\n",
       "</div>"
      ],
      "text/plain": [
       "                            answer  grade\n",
       "question_id                              \n",
       "1            [محمد, صلي, الل, سلم]      2\n",
       "1                     [خاتم, نبيء]      2\n",
       "1                     [رسول, اعظم]      2\n",
       "1                      [سيد, مرسل]      2\n",
       "1               [صاحب, رسال, خاتم]      2\n",
       "...                            ...    ...\n",
       "10                           [كهف]      0\n",
       "10                           [فرق]      0\n",
       "10                       [ال, عمر]      0\n",
       "10                           [سرء]      0\n",
       "10                          [مريم]      0\n",
       "\n",
       "[870 rows x 2 columns]"
      ]
     },
     "execution_count": 14,
     "metadata": {},
     "output_type": "execute_result"
    }
   ],
   "source": [
    "answers"
   ]
  },
  {
   "cell_type": "code",
   "execution_count": 15,
   "id": "5c06d9d2",
   "metadata": {
    "execution": {
     "iopub.execute_input": "2024-01-05T04:14:41.776670Z",
     "iopub.status.busy": "2024-01-05T04:14:41.776198Z",
     "iopub.status.idle": "2024-01-05T04:14:55.602686Z",
     "shell.execute_reply": "2024-01-05T04:14:55.601443Z"
    },
    "papermill": {
     "duration": 13.844138,
     "end_time": "2024-01-05T04:14:55.605523",
     "exception": false,
     "start_time": "2024-01-05T04:14:41.761385",
     "status": "completed"
    },
    "tags": []
   },
   "outputs": [
    {
     "name": "stdout",
     "output_type": "stream",
     "text": [
      "Requirement already satisfied: gensim in c:\\users\\chaimae\\appdata\\local\\programs\\python\\python310\\lib\\site-packages (4.3.2)\n",
      "Requirement already satisfied: numpy>=1.18.5 in c:\\users\\chaimae\\appdata\\local\\programs\\python\\python310\\lib\\site-packages (from gensim) (1.26.3)\n",
      "Requirement already satisfied: scipy>=1.7.0 in c:\\users\\chaimae\\appdata\\local\\programs\\python\\python310\\lib\\site-packages (from gensim) (1.11.4)\n",
      "Requirement already satisfied: smart-open>=1.8.1 in c:\\users\\chaimae\\appdata\\local\\programs\\python\\python310\\lib\\site-packages (from gensim) (6.4.0)\n"
     ]
    }
   ],
   "source": [
    "\n",
    "!pip3 install gensim \n"
   ]
  },
  {
   "cell_type": "code",
   "execution_count": 16,
   "id": "1b6146c6",
   "metadata": {
    "execution": {
     "iopub.execute_input": "2024-01-05T04:14:55.634831Z",
     "iopub.status.busy": "2024-01-05T04:14:55.634361Z",
     "iopub.status.idle": "2024-01-05T04:15:08.038186Z",
     "shell.execute_reply": "2024-01-05T04:15:08.036932Z"
    },
    "papermill": {
     "duration": 12.421961,
     "end_time": "2024-01-05T04:15:08.041328",
     "exception": false,
     "start_time": "2024-01-05T04:14:55.619367",
     "status": "completed"
    },
    "tags": []
   },
   "outputs": [
    {
     "name": "stderr",
     "output_type": "stream",
     "text": [
      "'wget' n'est pas reconnu en tant que commande interne\n",
      "ou externe, un programme ex�cutable ou un fichier de commandes.\n"
     ]
    }
   ],
   "source": [
    "!wget https://dl.fbaipublicfiles.com/fasttext/vectors-wiki/wiki.ar.vec -P ./\n"
   ]
  },
  {
   "cell_type": "code",
   "execution_count": null,
   "id": "95ea3610",
   "metadata": {},
   "outputs": [],
   "source": [
    "\n"
   ]
  },
  {
   "cell_type": "code",
   "execution_count": 17,
   "id": "ec23c974",
   "metadata": {
    "execution": {
     "iopub.execute_input": "2024-01-05T04:15:08.403177Z",
     "iopub.status.busy": "2024-01-05T04:15:08.402564Z",
     "iopub.status.idle": "2024-01-05T04:18:25.695562Z",
     "shell.execute_reply": "2024-01-05T04:18:25.694115Z"
    },
    "papermill": {
     "duration": 197.368009,
     "end_time": "2024-01-05T04:18:25.698565",
     "exception": false,
     "start_time": "2024-01-05T04:15:08.330556",
     "status": "completed"
    },
    "tags": []
   },
   "outputs": [],
   "source": [
    "from gensim.models import KeyedVectors\n",
    "absolute_path = \"./wiki.ar.vec\"  # Replace with the actual absolute path\n",
    "fasttext_model = KeyedVectors.load_word2vec_format(absolute_path)\n"
   ]
  },
  {
   "cell_type": "code",
   "execution_count": 18,
   "id": "3719b19d",
   "metadata": {
    "execution": {
     "iopub.execute_input": "2024-01-05T04:18:25.737085Z",
     "iopub.status.busy": "2024-01-05T04:18:25.736663Z",
     "iopub.status.idle": "2024-01-05T04:18:25.780025Z",
     "shell.execute_reply": "2024-01-05T04:18:25.778920Z"
    },
    "papermill": {
     "duration": 0.065461,
     "end_time": "2024-01-05T04:18:25.782605",
     "exception": false,
     "start_time": "2024-01-05T04:18:25.717144",
     "status": "completed"
    },
    "tags": []
   },
   "outputs": [],
   "source": [
    "from keras.preprocessing.text import Tokenizer\n",
    "from tensorflow.keras.preprocessing.sequence import pad_sequences\n",
    "\n",
    "#train tokenization\n",
    "tokenizer = Tokenizer(filters=''''!\"#$%&()*+,-./:;<=>?@[\\\\]^_`{|}~\\t\\n`÷×؛<>_()*&^%][ـ،/:\"؟.,'{}~¦+|!”…“–ـ''''' )\n",
    "combined_texts = answers['answer']\n",
    "tokenizer.fit_on_texts(combined_texts)\n",
    "sequences = tokenizer.texts_to_sequences(combined_texts)\n",
    "max_sequence_length = max(len(s) for s in sequences)\n",
    "sequences = pad_sequences(sequences, max_sequence_length)\n",
    "word2idx = tokenizer.word_index\n",
    "vocab_size = len(word2idx) + 1"
   ]
  },
  {
   "cell_type": "code",
   "execution_count": 19,
   "id": "b6175dd4",
   "metadata": {
    "execution": {
     "iopub.execute_input": "2024-01-05T04:18:25.821675Z",
     "iopub.status.busy": "2024-01-05T04:18:25.821237Z",
     "iopub.status.idle": "2024-01-05T04:18:25.837996Z",
     "shell.execute_reply": "2024-01-05T04:18:25.836624Z"
    },
    "papermill": {
     "duration": 0.039708,
     "end_time": "2024-01-05T04:18:25.840998",
     "exception": false,
     "start_time": "2024-01-05T04:18:25.801290",
     "status": "completed"
    },
    "tags": []
   },
   "outputs": [
    {
     "name": "stdout",
     "output_type": "stream",
     "text": [
      "Word not exist in vocab: انعام،\n",
      "1\n",
      "Word not exist in vocab: 3\n",
      "2\n",
      "Word not exist in vocab: ''\n",
      "3\n",
      "Word not exist in vocab: ``\n",
      "4\n",
      "Word not exist in vocab: ارضع\n",
      "5\n",
      "Word not exist in vocab: مرضع\n",
      "6\n",
      "Word not exist in vocab: بتلع\n",
      "7\n",
      "Word not exist in vocab: فتتح\n",
      "8\n",
      "Word not exist in vocab: نبيء\n",
      "9\n",
      "Word not exist in vocab: اسلام،\n",
      "10\n",
      "Word not exist in vocab: ربم\n",
      "11\n",
      "Word not exist in vocab: حتوي\n",
      "12\n",
      "Word not exist in vocab: خري\n",
      "13\n",
      "Word not exist in vocab: اريخ\n",
      "14\n",
      "Word not exist in vocab: قران،\n",
      "15\n",
      "Word not exist in vocab: يتامي\n",
      "16\n",
      "Word not exist in vocab: شريع\n",
      "17\n",
      "Word not exist in vocab: عقوب\n",
      "18\n",
      "Word not exist in vocab: 5\n",
      "19\n",
      "Word not exist in vocab: فاطرهي\n",
      "20\n",
      "Word not exist in vocab: بالل\n",
      "21\n",
      "Word not exist in vocab: وزيع\n",
      "22\n",
      "Word not exist in vocab: 10\n",
      "23\n",
      "Word not exist in vocab: عالمين،\n",
      "24\n",
      "Word not exist in vocab: بتدئ\n",
      "25\n",
      "Word not exist in vocab: مائد\n",
      "26\n",
      "Word not exist in vocab: بعيسي\n",
      "27\n",
      "Word not exist in vocab: ختر\n",
      "28\n",
      "Word not exist in vocab: هب،\n",
      "29\n",
      "Word not exist in vocab: بدعو\n",
      "30\n",
      "Word not exist in vocab: بخديج\n",
      "31\n",
      "Word not exist in vocab: تبتد\n",
      "32\n",
      "Word not exist in vocab: بيئ\n",
      "33\n",
      "Word not exist in vocab: رعاي\n",
      "34\n",
      "Word not exist in vocab: انفال،\n",
      "35\n",
      "Word not exist in vocab: نتصر\n",
      "36\n",
      "Word not exist in vocab: غنائ\n",
      "37\n",
      "Word not exist in vocab: ايت،\n",
      "38\n",
      "Word not exist in vocab: انبياء،\n",
      "39\n",
      "Word not exist in vocab: رعرع\n",
      "40\n",
      "Word not exist in vocab: جهري\n",
      "41\n",
      "Word not exist in vocab: مكرمة،\n",
      "42\n",
      "Word not exist in vocab: فاتحة،الانعام،\n",
      "43\n",
      "Word not exist in vocab: حيء\n",
      "44\n",
      "Word not exist in vocab: دته\n",
      "45\n",
      "Word not exist in vocab: اسمين،\n",
      "46\n",
      "Word not exist in vocab: رة،\n",
      "47\n",
      "Word not exist in vocab: لخديج\n",
      "48\n",
      "Word not exist in vocab: اريخي\n",
      "49\n",
      "Word not exist in vocab: سمء\n",
      "50\n",
      "Word not exist in vocab: ستثنء\n",
      "51\n",
      "Word not exist in vocab: لبسمل\n",
      "52\n",
      "Word not exist in vocab: اهمي\n",
      "53\n",
      "Word not exist in vocab: اسسا\n",
      "54\n",
      "Word not exist in vocab: خزاع\n",
      "55\n",
      "Word not exist in vocab: طفول\n",
      "56\n",
      "Word not exist in vocab: اموم\n",
      "57\n",
      "Word not exist in vocab: صيب\n",
      "58\n",
      "Word not exist in vocab: بينم\n",
      "59\n",
      "Word not exist in vocab: ارء\n",
      "60\n",
      "Word not exist in vocab: لفتر\n",
      "61\n",
      "Word not exist in vocab: 3-5\n",
      "62\n",
      "Word not exist in vocab: 13\n",
      "63\n",
      "Word not exist in vocab: نتهء\n",
      "64\n",
      "Word not exist in vocab: ستمرر\n",
      "65\n",
      "Word not exist in vocab: لـ3\n",
      "66\n",
      "Word not exist in vocab: رفاهي\n",
      "67\n",
      "Word not exist in vocab: منورة،\n",
      "68\n",
      "Word not exist in vocab: ضطهد\n",
      "69\n",
      "Word not exist in vocab: 4\n",
      "70\n",
      "Word not exist in vocab: كهف،سبا،\n",
      "71\n",
      "Word not exist in vocab: انعام،الكهف\n",
      "72\n",
      "Word not exist in vocab: تتلال\n",
      "73\n",
      "Word not exist in vocab: خالق،\n",
      "74\n",
      "Word not exist in vocab: فاطربد\n",
      "75\n",
      "Word not exist in vocab: هيالكهف،\n",
      "76\n",
      "Word not exist in vocab: نهل،\n",
      "77\n",
      "Word not exist in vocab: فتشرق\n",
      "78\n",
      "Word not exist in vocab: نساب\n",
      "79\n",
      "Word not exist in vocab: كاصابع\n",
      "80\n",
      "Word not exist in vocab: بتق\n",
      "81\n",
      "Word not exist in vocab: صابرة،\n",
      "82\n",
      "Word not exist in vocab: انجيل،\n",
      "83\n",
      "Word not exist in vocab: صطف\n",
      "84\n",
      "Word not exist in vocab: ثب\n",
      "85\n",
      "Word not exist in vocab: خترع\n",
      "86\n",
      "Word not exist in vocab: دة،\n",
      "87\n",
      "Word not exist in vocab: ختراع\n",
      "88\n",
      "Word not exist in vocab: حترم\n",
      "89\n",
      "Word not exist in vocab: دتين\n",
      "90\n",
      "Word not exist in vocab: هاجرالعذراء\n",
      "91\n",
      "Word not exist in vocab: اجبة\n",
      "92\n",
      "Word not exist in vocab: موذج\n",
      "93\n",
      "Word not exist in vocab: زما\n",
      "94\n",
      "Word not exist in vocab: نساءهي\n",
      "95\n",
      "Word not exist in vocab: احديث\n",
      "96\n",
      "Word not exist in vocab: حتفل\n",
      "97\n",
      "Word not exist in vocab: ثقاف\n",
      "98\n",
      "Word not exist in vocab: ارتق\n",
      "99\n",
      "Word not exist in vocab: فشرف\n",
      "100\n",
      "Word not exist in vocab: بمثاب\n",
      "101\n",
      "Word not exist in vocab: انير\n",
      "102\n",
      "Word not exist in vocab: سلمت،\n",
      "103\n",
      "Word not exist in vocab: حتفي\n",
      "104\n",
      "Word not exist in vocab: لشا\n",
      "105\n",
      "Word not exist in vocab: حتوئ\n",
      "106\n",
      "Word not exist in vocab: ستثنائ\n",
      "107\n",
      "Word not exist in vocab: ستثني\n",
      "108\n",
      "Word not exist in vocab: انتبا\n",
      "109\n",
      "Word not exist in vocab: فترض\n",
      "110\n",
      "Word not exist in vocab: لتو\n",
      "111\n",
      "Word not exist in vocab: بكلم\n",
      "112\n",
      "Word not exist in vocab: احي\n",
      "113\n",
      "Word not exist in vocab: خلاقه،\n",
      "114\n",
      "Word not exist in vocab: احديث،\n",
      "115\n",
      "Word not exist in vocab: بدماث\n",
      "116\n",
      "Word not exist in vocab: اسق\n",
      "117\n",
      "Word not exist in vocab: تعطر\n",
      "118\n",
      "Word not exist in vocab: بحليم\n",
      "119\n",
      "Word not exist in vocab: ختير\n",
      "120\n",
      "Word not exist in vocab: لترضاع\n",
      "121\n",
      "Word not exist in vocab: برضاع\n",
      "122\n",
      "Word not exist in vocab: ونس،\n",
      "123\n",
      "Word not exist in vocab: برحم\n",
      "124\n",
      "Word not exist in vocab: سرائيل\n",
      "125\n",
      "Word not exist in vocab: متاكدا،\n",
      "126\n",
      "Word not exist in vocab: يقط\n",
      "127\n",
      "Word not exist in vocab: 41،\n",
      "128\n",
      "Word not exist in vocab: فيء،\n",
      "129\n",
      "Word not exist in vocab: عدء\n",
      "130\n",
      "Word not exist in vocab: 41\n",
      "131\n",
      "Word not exist in vocab: ركيز\n",
      "132\n",
      "Word not exist in vocab: ؤسس\n",
      "133\n",
      "Word not exist in vocab: ضعت،\n",
      "134\n",
      "Word not exist in vocab: لترسي\n",
      "135\n",
      "Word not exist in vocab: بانصاف\n",
      "136\n",
      "Word not exist in vocab: مشركين،\n",
      "137\n",
      "Word not exist in vocab: رتبط\n",
      "138\n",
      "Word not exist in vocab: رتباط\n",
      "139\n",
      "Word not exist in vocab: ثيق\n",
      "140\n",
      "Word not exist in vocab: اضح\n",
      "141\n",
      "Word not exist in vocab: اريخي،\n",
      "142\n",
      "Word not exist in vocab: خصيص\n",
      "143\n",
      "Word not exist in vocab: رسء\n",
      "144\n",
      "Word not exist in vocab: رسي\n",
      "145\n",
      "Word not exist in vocab: بتواز\n",
      "146\n",
      "Word not exist in vocab: 16\n",
      "147\n",
      "Word not exist in vocab: 196\n",
      "148\n",
      "Word not exist in vocab: كافرو\n",
      "149\n",
      "Word not exist in vocab: جاثي\n",
      "150\n",
      "Word not exist in vocab: نشقق\n",
      "151\n",
      "Word not exist in vocab: مطفف\n",
      "152\n",
      "Word not exist in vocab: عتبرهي\n",
      "153\n",
      "Word not exist in vocab: اثنت\n",
      "154\n",
      "Word not exist in vocab: تتك\n",
      "155\n"
     ]
    }
   ],
   "source": [
    "# Word Embedding\n",
    "from keras.layers import Embedding\n",
    "import numpy as np\n",
    "\n",
    "EMBEDDING_DIM = 300\n",
    "num_words = len(word2idx) + 1\n",
    "\n",
    "# Prepare embedding matrix\n",
    "embedding_matrix = np.zeros((num_words, EMBEDDING_DIM))\n",
    "count = 0  # Initialize count here\n",
    "for word, idx in word2idx.items():\n",
    "    if word in fasttext_model:\n",
    "        embedding_matrix[idx] = fasttext_model.get_vector(word)\n",
    "    else:\n",
    "        count += 1\n",
    "        print(\"Word not exist in vocab: \" + word)\n",
    "        print(count)"
   ]
  },
  {
   "cell_type": "code",
   "execution_count": 20,
   "id": "d6f8af71",
   "metadata": {
    "execution": {
     "iopub.execute_input": "2024-01-05T04:18:25.940985Z",
     "iopub.status.busy": "2024-01-05T04:18:25.940567Z",
     "iopub.status.idle": "2024-01-05T04:18:25.948987Z",
     "shell.execute_reply": "2024-01-05T04:18:25.947848Z"
    },
    "papermill": {
     "duration": 0.090614,
     "end_time": "2024-01-05T04:18:25.951289",
     "exception": false,
     "start_time": "2024-01-05T04:18:25.860675",
     "status": "completed"
    },
    "tags": []
   },
   "outputs": [
    {
     "data": {
      "text/plain": [
       "array([[ 0.        ,  0.        ,  0.        , ...,  0.        ,\n",
       "         0.        ,  0.        ],\n",
       "       [ 0.30983999, -0.13467   , -0.73664999, ..., -0.32602999,\n",
       "        -0.21698999, -0.29073   ],\n",
       "       [ 0.21615   ,  0.21889   , -0.049481  , ..., -0.13906001,\n",
       "         0.12826   ,  0.36548001],\n",
       "       ...,\n",
       "       [-0.37913001,  0.90614003, -0.30304   , ..., -0.21646   ,\n",
       "         0.085595  ,  0.34847   ],\n",
       "       [ 0.024534  ,  0.40884   , -0.45969999, ..., -0.34301001,\n",
       "         0.17645   , -0.40713999],\n",
       "       [-0.27902001, -0.022783  , -0.23921999, ..., -0.31531999,\n",
       "         0.037558  ,  0.30046999]])"
      ]
     },
     "execution_count": 20,
     "metadata": {},
     "output_type": "execute_result"
    }
   ],
   "source": [
    "embedding_matrix"
   ]
  },
  {
   "cell_type": "code",
   "execution_count": 21,
   "id": "a718406a",
   "metadata": {
    "execution": {
     "iopub.execute_input": "2024-01-05T04:18:25.991142Z",
     "iopub.status.busy": "2024-01-05T04:18:25.990749Z",
     "iopub.status.idle": "2024-01-05T04:18:25.998749Z",
     "shell.execute_reply": "2024-01-05T04:18:25.997623Z"
    },
    "papermill": {
     "duration": 0.030779,
     "end_time": "2024-01-05T04:18:26.001062",
     "exception": false,
     "start_time": "2024-01-05T04:18:25.970283",
     "status": "completed"
    },
    "tags": []
   },
   "outputs": [],
   "source": [
    "class TokenAndPositionEmbedding(layers.Layer):\n",
    "    def __init__(self, maxlen, vocab_size, embed_dim ,embedding_matrix):\n",
    "        super(TokenAndPositionEmbedding, self).__init__()\n",
    "        self.token_emb = layers.Embedding(input_dim=vocab_size,weights=[embedding_matrix], output_dim=embed_dim)\n",
    "        self.pos_emb = layers.Embedding(input_dim=maxlen, output_dim=embed_dim)\n",
    "        \n",
    "    def call(self, x):\n",
    "        maxlen = tf.shape(x)[-1]\n",
    "        positions = tf.range(start=0, limit=maxlen, delta=1)\n",
    "        positions = self.pos_emb(positions)\n",
    "        x = self.token_emb(x)\n",
    "        return x + positions"
   ]
  },
  {
   "cell_type": "code",
   "execution_count": 22,
   "id": "afacfe6f",
   "metadata": {
    "execution": {
     "iopub.execute_input": "2024-01-05T04:18:26.041349Z",
     "iopub.status.busy": "2024-01-05T04:18:26.040958Z",
     "iopub.status.idle": "2024-01-05T04:18:26.051046Z",
     "shell.execute_reply": "2024-01-05T04:18:26.049685Z"
    },
    "papermill": {
     "duration": 0.033201,
     "end_time": "2024-01-05T04:18:26.053411",
     "exception": false,
     "start_time": "2024-01-05T04:18:26.020210",
     "status": "completed"
    },
    "tags": []
   },
   "outputs": [],
   "source": [
    "class TransformerBlock(layers.Layer):\n",
    "    def __init__(self, embed_dim, num_heads, ff_dim, rate=0.1):\n",
    "        super(TransformerBlock, self).__init__()\n",
    "        self.att = layers.MultiHeadAttention(num_heads=num_heads, key_dim=embed_dim)\n",
    "        self.ffn = keras.Sequential(\n",
    "            [layers.Dense(ff_dim, activation=\"relu\"), layers.Dense(embed_dim),]\n",
    "        )\n",
    "        self.layernorm1 = layers.LayerNormalization(epsilon=1e-6)\n",
    "        self.layernorm2 = layers.LayerNormalization(epsilon=1e-6)\n",
    "        self.dropout1 = layers.Dropout(rate)\n",
    "        self.dropout2 = layers.Dropout(rate)\n",
    "    \n",
    "\n",
    "    def call(self, inputs, training):\n",
    "        attn_output = self.att(inputs, inputs)\n",
    "        attn_output = self.dropout1(attn_output, training=training)\n",
    "        out1 = self.layernorm1(inputs + attn_output)\n",
    "        ffn_output = self.ffn(out1)\n",
    "        ffn_output = self.dropout2(ffn_output, training=training)\n",
    "        return self.layernorm2(out1 + ffn_output)"
   ]
  },
  {
   "cell_type": "code",
   "execution_count": 23,
   "id": "cac54fd1",
   "metadata": {
    "execution": {
     "iopub.execute_input": "2024-01-05T04:18:26.093459Z",
     "iopub.status.busy": "2024-01-05T04:18:26.093076Z",
     "iopub.status.idle": "2024-01-05T04:18:26.099136Z",
     "shell.execute_reply": "2024-01-05T04:18:26.098045Z"
    },
    "papermill": {
     "duration": 0.029126,
     "end_time": "2024-01-05T04:18:26.101618",
     "exception": false,
     "start_time": "2024-01-05T04:18:26.072492",
     "status": "completed"
    },
    "tags": []
   },
   "outputs": [],
   "source": [
    "from sklearn.model_selection import train_test_split\n",
    "X_train, X_test, y_train, y_test = train_test_split(sequences, scores, test_size=0.2)"
   ]
  },
  {
   "cell_type": "code",
   "execution_count": 24,
   "id": "25e74dea",
   "metadata": {
    "execution": {
     "iopub.execute_input": "2024-01-05T04:18:26.142676Z",
     "iopub.status.busy": "2024-01-05T04:18:26.142265Z",
     "iopub.status.idle": "2024-01-05T04:18:26.766332Z",
     "shell.execute_reply": "2024-01-05T04:18:26.765146Z"
    },
    "papermill": {
     "duration": 0.648283,
     "end_time": "2024-01-05T04:18:26.769174",
     "exception": false,
     "start_time": "2024-01-05T04:18:26.120891",
     "status": "completed"
    },
    "tags": []
   },
   "outputs": [
    {
     "name": "stdout",
     "output_type": "stream",
     "text": [
      "WARNING:tensorflow:From c:\\Users\\chaimae\\AppData\\Local\\Programs\\Python\\Python310\\lib\\site-packages\\keras\\src\\backend.py:1398: The name tf.executing_eagerly_outside_functions is deprecated. Please use tf.compat.v1.executing_eagerly_outside_functions instead.\n",
      "\n"
     ]
    }
   ],
   "source": [
    "num_heads = 1  # Number of attention heads\n",
    "ff_dim = 8  # Hidden layer size in feed forward network inside transformer\n",
    "\n",
    "inputs = layers.Input(shape=(max_sequence_length,))\n",
    "embedding_layer = TokenAndPositionEmbedding(max_sequence_length, vocab_size, EMBEDDING_DIM,embedding_matrix)\n",
    "x = embedding_layer(inputs)\n",
    "transformer_block = TransformerBlock(EMBEDDING_DIM, num_heads, ff_dim,0.3)\n",
    "x = transformer_block(x)\n",
    "x = layers.GlobalMaxPooling1D()(x)\n",
    "x = layers.Dropout(0.1)(x)\n",
    "#x = layers.Dense(5, activation=\"relu\")(x)\n",
    "#x = layers.Dropout(0.1)(x)\n",
    "outputs = layers.Dense(3, activation=\"softmax\")(x)\n",
    "\n",
    "model = keras.Model(inputs=inputs, outputs=outputs)"
   ]
  },
  {
   "cell_type": "code",
   "execution_count": 25,
   "id": "6d0033e0",
   "metadata": {
    "execution": {
     "iopub.execute_input": "2024-01-05T04:18:26.809272Z",
     "iopub.status.busy": "2024-01-05T04:18:26.808876Z",
     "iopub.status.idle": "2024-01-05T04:18:26.818607Z",
     "shell.execute_reply": "2024-01-05T04:18:26.817307Z"
    },
    "papermill": {
     "duration": 0.033037,
     "end_time": "2024-01-05T04:18:26.821225",
     "exception": false,
     "start_time": "2024-01-05T04:18:26.788188",
     "status": "completed"
    },
    "tags": []
   },
   "outputs": [],
   "source": [
    "from keras import backend as K\n",
    "\n",
    "def recall_m(y_true, y_pred):\n",
    "    true_positives = K.sum(K.round(K.clip(y_true * y_pred, 0, 1)))\n",
    "    possible_positives = K.sum(K.round(K.clip(y_true, 0, 1)))\n",
    "    recall = true_positives / (possible_positives + K.epsilon())\n",
    "    return recall\n",
    "\n",
    "def precision_m(y_true, y_pred):\n",
    "    true_positives = K.sum(K.round(K.clip(y_true * y_pred, 0, 1)))\n",
    "    predicted_positives = K.sum(K.round(K.clip(y_pred, 0, 1)))\n",
    "    precision = true_positives / (predicted_positives + K.epsilon())\n",
    "    return precision\n",
    "\n",
    "def f1_m(y_true, y_pred):\n",
    "    precision = precision_m(y_true, y_pred)\n",
    "    recall = recall_m(y_true, y_pred)\n",
    "    return 2*((precision*recall)/(precision+recall+K.epsilon()))"
   ]
  },
  {
   "cell_type": "code",
   "execution_count": 26,
   "id": "7f1f6f4f",
   "metadata": {
    "execution": {
     "iopub.execute_input": "2024-01-05T04:18:26.864111Z",
     "iopub.status.busy": "2024-01-05T04:18:26.863481Z",
     "iopub.status.idle": "2024-01-05T04:18:27.119693Z",
     "shell.execute_reply": "2024-01-05T04:18:27.118355Z"
    },
    "papermill": {
     "duration": 0.283459,
     "end_time": "2024-01-05T04:18:27.124937",
     "exception": false,
     "start_time": "2024-01-05T04:18:26.841478",
     "status": "completed"
    },
    "tags": []
   },
   "outputs": [
    {
     "name": "stderr",
     "output_type": "stream",
     "text": [
      "c:\\Users\\chaimae\\AppData\\Local\\Programs\\Python\\Python310\\lib\\site-packages\\tensorflow_addons\\utils\\tfa_eol_msg.py:23: UserWarning: \n",
      "\n",
      "TensorFlow Addons (TFA) has ended development and introduction of new features.\n",
      "TFA has entered a minimal maintenance and release mode until a planned end of life in May 2024.\n",
      "Please modify downstream libraries to take dependencies from other repositories in our TensorFlow community (e.g. Keras, Keras-CV, and Keras-NLP). \n",
      "\n",
      "For more information see: https://github.com/tensorflow/addons/issues/2807 \n",
      "\n",
      "  warnings.warn(\n",
      "c:\\Users\\chaimae\\AppData\\Local\\Programs\\Python\\Python310\\lib\\site-packages\\tensorflow_addons\\utils\\ensure_tf_install.py:53: UserWarning: Tensorflow Addons supports using Python ops for all Tensorflow versions above or equal to 2.12.0 and strictly below 2.15.0 (nightly versions are not supported). \n",
      " The versions of TensorFlow you are currently using is 2.15.0 and is not supported. \n",
      "Some things might work, some things might not.\n",
      "If you were to encounter a bug, do not file an issue.\n",
      "If you want to make sure you're using a tested and supported configuration, either change the TensorFlow version or the TensorFlow Addons's version. \n",
      "You can find the compatibility matrix in TensorFlow Addon's readme:\n",
      "https://github.com/tensorflow/addons\n",
      "  warnings.warn(\n",
      "c:\\Users\\chaimae\\AppData\\Local\\Programs\\Python\\Python310\\lib\\site-packages\\keras\\src\\engine\\training.py:3103: UserWarning: You are saving your model as an HDF5 file via `model.save()`. This file format is considered legacy. We recommend using instead the native Keras format, e.g. `model.save('my_model.keras')`.\n",
      "  saving_api.save_model(\n"
     ]
    },
    {
     "ename": "NotImplementedError",
     "evalue": "\nLayer TokenAndPositionEmbedding was created by passing\nnon-serializable argument values in `__init__()`,\nand therefore the layer must override `get_config()` in\norder to be serializable. Please implement `get_config()`.\n\nExample:\n\nclass CustomLayer(keras.layers.Layer):\n    def __init__(self, arg1, arg2, **kwargs):\n        super().__init__(**kwargs)\n        self.arg1 = arg1\n        self.arg2 = arg2\n\n    def get_config(self):\n        config = super().get_config()\n        config.update({\n            \"arg1\": self.arg1,\n            \"arg2\": self.arg2,\n        })\n        return config",
     "output_type": "error",
     "traceback": [
      "\u001b[1;31m---------------------------------------------------------------------------\u001b[0m",
      "\u001b[1;31mNotImplementedError\u001b[0m                       Traceback (most recent call last)",
      "Cell \u001b[1;32mIn[26], line 12\u001b[0m\n\u001b[0;32m      6\u001b[0m keras_callbacks \u001b[38;5;241m=\u001b[39m [\n\u001b[0;32m      7\u001b[0m   tensorboard_callback,es_callback\n\u001b[0;32m      8\u001b[0m ]\n\u001b[0;32m     11\u001b[0m model\u001b[38;5;241m.\u001b[39mcompile(optimizer\u001b[38;5;241m=\u001b[39mtf\u001b[38;5;241m.\u001b[39mkeras\u001b[38;5;241m.\u001b[39moptimizers\u001b[38;5;241m.\u001b[39mAdam(learning_rate\u001b[38;5;241m=\u001b[39m\u001b[38;5;241m0.001\u001b[39m, beta_1\u001b[38;5;241m=\u001b[39m\u001b[38;5;241m0.9\u001b[39m, beta_2\u001b[38;5;241m=\u001b[39m\u001b[38;5;241m0.999\u001b[39m), loss\u001b[38;5;241m=\u001b[39m\u001b[38;5;124m\"\u001b[39m\u001b[38;5;124mcategorical_crossentropy\u001b[39m\u001b[38;5;124m\"\u001b[39m,  metrics\u001b[38;5;241m=\u001b[39m[\u001b[38;5;124m'\u001b[39m\u001b[38;5;124maccuracy\u001b[39m\u001b[38;5;124m'\u001b[39m,tf\u001b[38;5;241m.\u001b[39mkeras\u001b[38;5;241m.\u001b[39mmetrics\u001b[38;5;241m.\u001b[39mPrecision(), tf\u001b[38;5;241m.\u001b[39mkeras\u001b[38;5;241m.\u001b[39mmetrics\u001b[38;5;241m.\u001b[39mRecall(),f1_m,tfa\u001b[38;5;241m.\u001b[39mmetrics\u001b[38;5;241m.\u001b[39mCohenKappa(num_classes\u001b[38;5;241m=\u001b[39m\u001b[38;5;241m3\u001b[39m)])\n\u001b[1;32m---> 12\u001b[0m \u001b[43mmodel\u001b[49m\u001b[38;5;241;43m.\u001b[39;49m\u001b[43msave\u001b[49m\u001b[43m(\u001b[49m\u001b[38;5;124;43m'\u001b[39;49m\u001b[38;5;124;43mtransformer_model.h5\u001b[39;49m\u001b[38;5;124;43m'\u001b[39;49m\u001b[43m)\u001b[49m\n\u001b[0;32m     13\u001b[0m model\u001b[38;5;241m.\u001b[39msummary()\n",
      "File \u001b[1;32mc:\\Users\\chaimae\\AppData\\Local\\Programs\\Python\\Python310\\lib\\site-packages\\keras\\src\\utils\\traceback_utils.py:70\u001b[0m, in \u001b[0;36mfilter_traceback.<locals>.error_handler\u001b[1;34m(*args, **kwargs)\u001b[0m\n\u001b[0;32m     67\u001b[0m     filtered_tb \u001b[38;5;241m=\u001b[39m _process_traceback_frames(e\u001b[38;5;241m.\u001b[39m__traceback__)\n\u001b[0;32m     68\u001b[0m     \u001b[38;5;66;03m# To get the full stack trace, call:\u001b[39;00m\n\u001b[0;32m     69\u001b[0m     \u001b[38;5;66;03m# `tf.debugging.disable_traceback_filtering()`\u001b[39;00m\n\u001b[1;32m---> 70\u001b[0m     \u001b[38;5;28;01mraise\u001b[39;00m e\u001b[38;5;241m.\u001b[39mwith_traceback(filtered_tb) \u001b[38;5;28;01mfrom\u001b[39;00m \u001b[38;5;28;01mNone\u001b[39;00m\n\u001b[0;32m     71\u001b[0m \u001b[38;5;28;01mfinally\u001b[39;00m:\n\u001b[0;32m     72\u001b[0m     \u001b[38;5;28;01mdel\u001b[39;00m filtered_tb\n",
      "File \u001b[1;32mc:\\Users\\chaimae\\AppData\\Local\\Programs\\Python\\Python310\\lib\\site-packages\\keras\\src\\engine\\base_layer.py:825\u001b[0m, in \u001b[0;36mLayer.get_config\u001b[1;34m(self)\u001b[0m\n\u001b[0;32m    823\u001b[0m     \u001b[38;5;28;01mreturn\u001b[39;00m config\n\u001b[0;32m    824\u001b[0m \u001b[38;5;28;01melse\u001b[39;00m:\n\u001b[1;32m--> 825\u001b[0m     \u001b[38;5;28;01mraise\u001b[39;00m \u001b[38;5;167;01mNotImplementedError\u001b[39;00m(\n\u001b[0;32m    826\u001b[0m         textwrap\u001b[38;5;241m.\u001b[39mdedent(\n\u001b[0;32m    827\u001b[0m             \u001b[38;5;124mf\u001b[39m\u001b[38;5;124m\"\"\"\u001b[39m\n\u001b[0;32m    828\u001b[0m \u001b[38;5;124mLayer \u001b[39m\u001b[38;5;132;01m{\u001b[39;00m\u001b[38;5;28mself\u001b[39m\u001b[38;5;241m.\u001b[39m\u001b[38;5;18m__class__\u001b[39m\u001b[38;5;241m.\u001b[39m\u001b[38;5;18m__name__\u001b[39m\u001b[38;5;132;01m}\u001b[39;00m\u001b[38;5;124m was created by passing\u001b[39m\n\u001b[0;32m    829\u001b[0m \u001b[38;5;124mnon-serializable argument values in `__init__()`,\u001b[39m\n\u001b[0;32m    830\u001b[0m \u001b[38;5;124mand therefore the layer must override `get_config()` in\u001b[39m\n\u001b[0;32m    831\u001b[0m \u001b[38;5;124morder to be serializable. Please implement `get_config()`.\u001b[39m\n\u001b[0;32m    832\u001b[0m \n\u001b[0;32m    833\u001b[0m \u001b[38;5;124mExample:\u001b[39m\n\u001b[0;32m    834\u001b[0m \n\u001b[0;32m    835\u001b[0m \u001b[38;5;124mclass CustomLayer(keras.layers.Layer):\u001b[39m\n\u001b[0;32m    836\u001b[0m \u001b[38;5;124m    def __init__(self, arg1, arg2, **kwargs):\u001b[39m\n\u001b[0;32m    837\u001b[0m \u001b[38;5;124m        super().__init__(**kwargs)\u001b[39m\n\u001b[0;32m    838\u001b[0m \u001b[38;5;124m        self.arg1 = arg1\u001b[39m\n\u001b[0;32m    839\u001b[0m \u001b[38;5;124m        self.arg2 = arg2\u001b[39m\n\u001b[0;32m    840\u001b[0m \n\u001b[0;32m    841\u001b[0m \u001b[38;5;124m    def get_config(self):\u001b[39m\n\u001b[0;32m    842\u001b[0m \u001b[38;5;124m        config = super().get_config()\u001b[39m\n\u001b[0;32m    843\u001b[0m \u001b[38;5;124m        config.update(\u001b[39m\u001b[38;5;130;01m{{\u001b[39;00m\n\u001b[0;32m    844\u001b[0m \u001b[38;5;124m            \u001b[39m\u001b[38;5;124m\"\u001b[39m\u001b[38;5;124marg1\u001b[39m\u001b[38;5;124m\"\u001b[39m\u001b[38;5;124m: self.arg1,\u001b[39m\n\u001b[0;32m    845\u001b[0m \u001b[38;5;124m            \u001b[39m\u001b[38;5;124m\"\u001b[39m\u001b[38;5;124marg2\u001b[39m\u001b[38;5;124m\"\u001b[39m\u001b[38;5;124m: self.arg2,\u001b[39m\n\u001b[0;32m    846\u001b[0m \u001b[38;5;124m        \u001b[39m\u001b[38;5;130;01m}}\u001b[39;00m\u001b[38;5;124m)\u001b[39m\n\u001b[0;32m    847\u001b[0m \u001b[38;5;124m        return config\u001b[39m\u001b[38;5;124m\"\"\"\u001b[39m\n\u001b[0;32m    848\u001b[0m         )\n\u001b[0;32m    849\u001b[0m     )\n",
      "\u001b[1;31mNotImplementedError\u001b[0m: \nLayer TokenAndPositionEmbedding was created by passing\nnon-serializable argument values in `__init__()`,\nand therefore the layer must override `get_config()` in\norder to be serializable. Please implement `get_config()`.\n\nExample:\n\nclass CustomLayer(keras.layers.Layer):\n    def __init__(self, arg1, arg2, **kwargs):\n        super().__init__(**kwargs)\n        self.arg1 = arg1\n        self.arg2 = arg2\n\n    def get_config(self):\n        config = super().get_config()\n        config.update({\n            \"arg1\": self.arg1,\n            \"arg2\": self.arg2,\n        })\n        return config"
     ]
    }
   ],
   "source": [
    "import tensorflow_addons as tfa\n",
    "#https://neptune.ai/blog/tensorboard-tutorial\n",
    "tensorboard_callback = TensorBoard(log_dir=\"./logstr\")\n",
    "#Early stopping\n",
    "es_callback = tf.keras.callbacks.EarlyStopping(monitor='loss',patience=3,verbose=1,mode='min')\n",
    "keras_callbacks = [\n",
    "  tensorboard_callback,es_callback\n",
    "]\n",
    "\n",
    "\n",
    "model.compile(optimizer=tf.keras.optimizers.Adam(learning_rate=0.001, beta_1=0.9, beta_2=0.999), loss=\"categorical_crossentropy\",  metrics=['accuracy',tf.keras.metrics.Precision(), tf.keras.metrics.Recall(),f1_m,tfa.metrics.CohenKappa(num_classes=3)])\n",
    "#model.save('transformer_model.h5')\n",
    "model.summary()\n"
   ]
  },
  {
   "cell_type": "code",
   "execution_count": null,
   "id": "c10a8085",
   "metadata": {
    "execution": {
     "iopub.execute_input": "2024-01-05T04:18:27.171330Z",
     "iopub.status.busy": "2024-01-05T04:18:27.170946Z",
     "iopub.status.idle": "2024-01-05T04:19:30.593032Z",
     "shell.execute_reply": "2024-01-05T04:19:30.591639Z"
    },
    "papermill": {
     "duration": 63.448425,
     "end_time": "2024-01-05T04:19:30.595307",
     "exception": false,
     "start_time": "2024-01-05T04:18:27.146882",
     "status": "completed"
    },
    "tags": []
   },
   "outputs": [
    {
     "name": "stdout",
     "output_type": "stream",
     "text": [
      "WARNING:tensorflow:Model failed to serialize as JSON. Ignoring... \n",
      "Layer TokenAndPositionEmbedding was created by passing\n",
      "non-serializable argument values in `__init__()`,\n",
      "and therefore the layer must override `get_config()` in\n",
      "order to be serializable. Please implement `get_config()`.\n",
      "\n",
      "Example:\n",
      "\n",
      "class CustomLayer(keras.layers.Layer):\n",
      "    def __init__(self, arg1, arg2, **kwargs):\n",
      "        super().__init__(**kwargs)\n",
      "        self.arg1 = arg1\n",
      "        self.arg2 = arg2\n",
      "\n",
      "    def get_config(self):\n",
      "        config = super().get_config()\n",
      "        config.update({\n",
      "            \"arg1\": self.arg1,\n",
      "            \"arg2\": self.arg2,\n",
      "        })\n",
      "        return config\n",
      "Epoch 1/100\n",
      "WARNING:tensorflow:From c:\\Users\\chaimae\\AppData\\Local\\Programs\\Python\\Python310\\lib\\site-packages\\keras\\src\\utils\\tf_utils.py:492: The name tf.ragged.RaggedTensorValue is deprecated. Please use tf.compat.v1.ragged.RaggedTensorValue instead.\n",
      "\n",
      "WARNING:tensorflow:From c:\\Users\\chaimae\\AppData\\Local\\Programs\\Python\\Python310\\lib\\site-packages\\keras\\src\\engine\\base_layer_utils.py:384: The name tf.executing_eagerly_outside_functions is deprecated. Please use tf.compat.v1.executing_eagerly_outside_functions instead.\n",
      "\n",
      "3/3 [==============================] - 16s 1s/step - loss: 1.9887 - accuracy: 0.3549 - precision: 0.3600 - recall: 0.3491 - f1_m: 0.3599 - cohen_kappa: 0.0236 - val_loss: 1.6084 - val_accuracy: 0.5862 - val_precision: 0.5862 - val_recall: 0.5862 - val_f1_m: 0.5862 - val_cohen_kappa: 0.2329\n",
      "Epoch 2/100\n",
      "3/3 [==============================] - 2s 547ms/step - loss: 1.4353 - accuracy: 0.5876 - precision: 0.5876 - recall: 0.5876 - f1_m: 0.5901 - cohen_kappa: 0.2055 - val_loss: 1.2882 - val_accuracy: 0.6092 - val_precision: 0.6092 - val_recall: 0.6092 - val_f1_m: 0.6092 - val_cohen_kappa: 0.2803\n",
      "Epoch 3/100\n",
      "3/3 [==============================] - 2s 536ms/step - loss: 1.0917 - accuracy: 0.5891 - precision: 0.5966 - recall: 0.5503 - f1_m: 0.5639 - cohen_kappa: 0.2725 - val_loss: 0.9554 - val_accuracy: 0.6379 - val_precision: 0.6424 - val_recall: 0.5575 - val_f1_m: 0.5969 - val_cohen_kappa: 0.3354\n",
      "Epoch 4/100\n",
      "3/3 [==============================] - 1s 502ms/step - loss: 1.0430 - accuracy: 0.5489 - precision: 0.5677 - recall: 0.4641 - f1_m: 0.5166 - cohen_kappa: 0.2363 - val_loss: 1.1100 - val_accuracy: 0.5632 - val_precision: 0.5640 - val_recall: 0.5575 - val_f1_m: 0.5607 - val_cohen_kappa: 0.1721\n",
      "Epoch 5/100\n",
      "3/3 [==============================] - 1s 484ms/step - loss: 0.9431 - accuracy: 0.6006 - precision: 0.6349 - recall: 0.5546 - f1_m: 0.5927 - cohen_kappa: 0.2585 - val_loss: 0.9815 - val_accuracy: 0.6264 - val_precision: 0.6374 - val_recall: 0.6264 - val_f1_m: 0.6319 - val_cohen_kappa: 0.3120\n",
      "Epoch 6/100\n",
      "3/3 [==============================] - 1s 483ms/step - loss: 0.8252 - accuracy: 0.6580 - precision: 0.6758 - recall: 0.6408 - f1_m: 0.6578 - cohen_kappa: 0.3789 - val_loss: 0.9367 - val_accuracy: 0.6552 - val_precision: 0.6646 - val_recall: 0.6264 - val_f1_m: 0.6450 - val_cohen_kappa: 0.3752\n",
      "Epoch 7/100\n",
      "3/3 [==============================] - 1s 506ms/step - loss: 0.7878 - accuracy: 0.6408 - precision: 0.6609 - recall: 0.6049 - f1_m: 0.6276 - cohen_kappa: 0.3466 - val_loss: 0.9027 - val_accuracy: 0.6264 - val_precision: 0.6250 - val_recall: 0.6034 - val_f1_m: 0.6140 - val_cohen_kappa: 0.3029\n",
      "Epoch 8/100\n",
      "3/3 [==============================] - 2s 488ms/step - loss: 0.7258 - accuracy: 0.6940 - precision: 0.7136 - recall: 0.6480 - f1_m: 0.6778 - cohen_kappa: 0.4419 - val_loss: 0.8247 - val_accuracy: 0.6379 - val_precision: 0.6753 - val_recall: 0.5977 - val_f1_m: 0.6341 - val_cohen_kappa: 0.3361\n",
      "Epoch 9/100\n",
      "3/3 [==============================] - 1s 524ms/step - loss: 0.6595 - accuracy: 0.7284 - precision: 0.7568 - recall: 0.6796 - f1_m: 0.7203 - cohen_kappa: 0.5217 - val_loss: 0.7730 - val_accuracy: 0.6897 - val_precision: 0.7134 - val_recall: 0.6724 - val_f1_m: 0.6923 - val_cohen_kappa: 0.4371\n",
      "Epoch 10/100\n",
      "3/3 [==============================] - 2s 528ms/step - loss: 0.5940 - accuracy: 0.7471 - precision: 0.7821 - recall: 0.7270 - f1_m: 0.7549 - cohen_kappa: 0.5480 - val_loss: 0.8082 - val_accuracy: 0.7011 - val_precision: 0.7169 - val_recall: 0.6839 - val_f1_m: 0.7000 - val_cohen_kappa: 0.4484\n",
      "Epoch 11/100\n",
      "3/3 [==============================] - 1s 499ms/step - loss: 0.5537 - accuracy: 0.7744 - precision: 0.7896 - recall: 0.7443 - f1_m: 0.7674 - cohen_kappa: 0.5868 - val_loss: 0.7958 - val_accuracy: 0.7241 - val_precision: 0.7365 - val_recall: 0.7069 - val_f1_m: 0.7214 - val_cohen_kappa: 0.4931\n",
      "Epoch 12/100\n",
      "3/3 [==============================] - 1s 496ms/step - loss: 0.5294 - accuracy: 0.7945 - precision: 0.8120 - recall: 0.7759 - f1_m: 0.7921 - cohen_kappa: 0.6263 - val_loss: 0.7221 - val_accuracy: 0.7299 - val_precision: 0.7593 - val_recall: 0.7069 - val_f1_m: 0.7321 - val_cohen_kappa: 0.5106\n",
      "Epoch 13/100\n",
      "3/3 [==============================] - 1s 480ms/step - loss: 0.4495 - accuracy: 0.8218 - precision: 0.8425 - recall: 0.7917 - f1_m: 0.8170 - cohen_kappa: 0.6812 - val_loss: 0.6894 - val_accuracy: 0.7356 - val_precision: 0.7834 - val_recall: 0.7069 - val_f1_m: 0.7432 - val_cohen_kappa: 0.5281\n",
      "Epoch 14/100\n",
      "3/3 [==============================] - 1s 466ms/step - loss: 0.4124 - accuracy: 0.8204 - precision: 0.8473 - recall: 0.7974 - f1_m: 0.8225 - cohen_kappa: 0.6826 - val_loss: 0.6924 - val_accuracy: 0.7529 - val_precision: 0.7730 - val_recall: 0.7241 - val_f1_m: 0.7478 - val_cohen_kappa: 0.5612\n",
      "Epoch 15/100\n",
      "3/3 [==============================] - 1s 506ms/step - loss: 0.3938 - accuracy: 0.8549 - precision: 0.8752 - recall: 0.8362 - f1_m: 0.8566 - cohen_kappa: 0.7406 - val_loss: 0.6855 - val_accuracy: 0.7644 - val_precision: 0.7892 - val_recall: 0.7529 - val_f1_m: 0.7706 - val_cohen_kappa: 0.5819\n",
      "Epoch 16/100\n",
      "3/3 [==============================] - 2s 533ms/step - loss: 0.3171 - accuracy: 0.8736 - precision: 0.8820 - recall: 0.8592 - f1_m: 0.8726 - cohen_kappa: 0.7730 - val_loss: 0.7292 - val_accuracy: 0.7816 - val_precision: 0.7857 - val_recall: 0.7586 - val_f1_m: 0.7719 - val_cohen_kappa: 0.6104\n",
      "Epoch 17/100\n",
      "3/3 [==============================] - 2s 543ms/step - loss: 0.2997 - accuracy: 0.8793 - precision: 0.8858 - recall: 0.8693 - f1_m: 0.8773 - cohen_kappa: 0.7852 - val_loss: 0.6838 - val_accuracy: 0.7759 - val_precision: 0.7771 - val_recall: 0.7414 - val_f1_m: 0.7588 - val_cohen_kappa: 0.6060\n",
      "Epoch 18/100\n",
      "3/3 [==============================] - 1s 497ms/step - loss: 0.2766 - accuracy: 0.8836 - precision: 0.8936 - recall: 0.8693 - f1_m: 0.8808 - cohen_kappa: 0.7964 - val_loss: 0.7341 - val_accuracy: 0.7816 - val_precision: 0.7879 - val_recall: 0.7471 - val_f1_m: 0.7670 - val_cohen_kappa: 0.6155\n",
      "Epoch 19/100\n",
      "3/3 [==============================] - 1s 493ms/step - loss: 0.2684 - accuracy: 0.8966 - precision: 0.9057 - recall: 0.8836 - f1_m: 0.8975 - cohen_kappa: 0.8163 - val_loss: 0.7365 - val_accuracy: 0.7874 - val_precision: 0.7976 - val_recall: 0.7701 - val_f1_m: 0.7836 - val_cohen_kappa: 0.6254\n",
      "Epoch 20/100\n",
      "3/3 [==============================] - 1s 484ms/step - loss: 0.2362 - accuracy: 0.9095 - precision: 0.9244 - recall: 0.8966 - f1_m: 0.9122 - cohen_kappa: 0.8396 - val_loss: 0.7338 - val_accuracy: 0.7644 - val_precision: 0.7738 - val_recall: 0.7471 - val_f1_m: 0.7602 - val_cohen_kappa: 0.5886\n",
      "Epoch 21/100\n",
      "3/3 [==============================] - 1s 494ms/step - loss: 0.2021 - accuracy: 0.9195 - precision: 0.9308 - recall: 0.9080 - f1_m: 0.9204 - cohen_kappa: 0.8587 - val_loss: 0.8071 - val_accuracy: 0.7529 - val_precision: 0.7544 - val_recall: 0.7414 - val_f1_m: 0.7478 - val_cohen_kappa: 0.5642\n",
      "Epoch 22/100\n",
      "3/3 [==============================] - 1s 497ms/step - loss: 0.1965 - accuracy: 0.9210 - precision: 0.9299 - recall: 0.9152 - f1_m: 0.9223 - cohen_kappa: 0.8610 - val_loss: 0.7697 - val_accuracy: 0.7471 - val_precision: 0.7574 - val_recall: 0.7356 - val_f1_m: 0.7464 - val_cohen_kappa: 0.5585\n",
      "Epoch 23/100\n",
      "3/3 [==============================] - 1s 494ms/step - loss: 0.1948 - accuracy: 0.9282 - precision: 0.9383 - recall: 0.9181 - f1_m: 0.9265 - cohen_kappa: 0.8747 - val_loss: 0.7996 - val_accuracy: 0.7471 - val_precision: 0.7544 - val_recall: 0.7414 - val_f1_m: 0.7478 - val_cohen_kappa: 0.5576\n",
      "Epoch 24/100\n",
      "3/3 [==============================] - 1s 494ms/step - loss: 0.1745 - accuracy: 0.9353 - precision: 0.9430 - recall: 0.9267 - f1_m: 0.9332 - cohen_kappa: 0.8861 - val_loss: 0.8372 - val_accuracy: 0.7529 - val_precision: 0.7574 - val_recall: 0.7356 - val_f1_m: 0.7464 - val_cohen_kappa: 0.5660\n",
      "Epoch 25/100\n",
      "3/3 [==============================] - 1s 504ms/step - loss: 0.1527 - accuracy: 0.9583 - precision: 0.9636 - recall: 0.9497 - f1_m: 0.9565 - cohen_kappa: 0.9272 - val_loss: 0.8412 - val_accuracy: 0.7241 - val_precision: 0.7394 - val_recall: 0.7011 - val_f1_m: 0.7198 - val_cohen_kappa: 0.5252\n",
      "Epoch 26/100\n",
      "3/3 [==============================] - 2s 527ms/step - loss: 0.1417 - accuracy: 0.9526 - precision: 0.9577 - recall: 0.9440 - f1_m: 0.9498 - cohen_kappa: 0.9174 - val_loss: 0.8853 - val_accuracy: 0.7529 - val_precision: 0.7588 - val_recall: 0.7414 - val_f1_m: 0.7500 - val_cohen_kappa: 0.5681\n",
      "Epoch 27/100\n",
      "3/3 [==============================] - 2s 535ms/step - loss: 0.1315 - accuracy: 0.9569 - precision: 0.9581 - recall: 0.9526 - f1_m: 0.9546 - cohen_kappa: 0.9244 - val_loss: 0.9053 - val_accuracy: 0.7471 - val_precision: 0.7529 - val_recall: 0.7356 - val_f1_m: 0.7442 - val_cohen_kappa: 0.5605\n",
      "Epoch 28/100\n",
      "3/3 [==============================] - 2s 538ms/step - loss: 0.1298 - accuracy: 0.9526 - precision: 0.9549 - recall: 0.9440 - f1_m: 0.9480 - cohen_kappa: 0.9177 - val_loss: 0.9042 - val_accuracy: 0.7471 - val_precision: 0.7500 - val_recall: 0.7241 - val_f1_m: 0.7368 - val_cohen_kappa: 0.5639\n",
      "Epoch 29/100\n",
      "3/3 [==============================] - 2s 536ms/step - loss: 0.1079 - accuracy: 0.9684 - precision: 0.9725 - recall: 0.9655 - f1_m: 0.9689 - cohen_kappa: 0.9448 - val_loss: 0.9477 - val_accuracy: 0.7471 - val_precision: 0.7633 - val_recall: 0.7414 - val_f1_m: 0.7522 - val_cohen_kappa: 0.5578\n",
      "Epoch 30/100\n",
      "3/3 [==============================] - 2s 582ms/step - loss: 0.1218 - accuracy: 0.9569 - precision: 0.9595 - recall: 0.9540 - f1_m: 0.9565 - cohen_kappa: 0.9245 - val_loss: 0.9198 - val_accuracy: 0.7471 - val_precision: 0.7633 - val_recall: 0.7414 - val_f1_m: 0.7522 - val_cohen_kappa: 0.5664\n",
      "Epoch 31/100\n",
      "3/3 [==============================] - 2s 534ms/step - loss: 0.1031 - accuracy: 0.9583 - precision: 0.9582 - recall: 0.9540 - f1_m: 0.9543 - cohen_kappa: 0.9277 - val_loss: 0.9461 - val_accuracy: 0.7529 - val_precision: 0.7529 - val_recall: 0.7356 - val_f1_m: 0.7442 - val_cohen_kappa: 0.5753\n",
      "Epoch 32/100\n",
      "3/3 [==============================] - 1s 511ms/step - loss: 0.1072 - accuracy: 0.9598 - precision: 0.9597 - recall: 0.9569 - f1_m: 0.9594 - cohen_kappa: 0.9299 - val_loss: 1.0042 - val_accuracy: 0.7586 - val_precision: 0.7602 - val_recall: 0.7471 - val_f1_m: 0.7536 - val_cohen_kappa: 0.5831\n",
      "Epoch 33/100\n",
      "3/3 [==============================] - 1s 481ms/step - loss: 0.0857 - accuracy: 0.9713 - precision: 0.9726 - recall: 0.9684 - f1_m: 0.9684 - cohen_kappa: 0.9499 - val_loss: 1.0351 - val_accuracy: 0.7529 - val_precision: 0.7515 - val_recall: 0.7299 - val_f1_m: 0.7405 - val_cohen_kappa: 0.5729\n",
      "Epoch 34/100\n",
      "3/3 [==============================] - 1s 490ms/step - loss: 0.0884 - accuracy: 0.9670 - precision: 0.9711 - recall: 0.9655 - f1_m: 0.9690 - cohen_kappa: 0.9426 - val_loss: 1.0371 - val_accuracy: 0.7471 - val_precision: 0.7500 - val_recall: 0.7414 - val_f1_m: 0.7457 - val_cohen_kappa: 0.5637\n",
      "Epoch 35/100\n",
      "3/3 [==============================] - 1s 462ms/step - loss: 0.0880 - accuracy: 0.9655 - precision: 0.9669 - recall: 0.9655 - f1_m: 0.9678 - cohen_kappa: 0.9399 - val_loss: 1.0416 - val_accuracy: 0.7644 - val_precision: 0.7647 - val_recall: 0.7471 - val_f1_m: 0.7558 - val_cohen_kappa: 0.5913\n",
      "Epoch 36/100\n",
      "3/3 [==============================] - 1s 489ms/step - loss: 0.0784 - accuracy: 0.9727 - precision: 0.9741 - recall: 0.9727 - f1_m: 0.9733 - cohen_kappa: 0.9525 - val_loss: 1.0412 - val_accuracy: 0.7414 - val_precision: 0.7529 - val_recall: 0.7356 - val_f1_m: 0.7442 - val_cohen_kappa: 0.5585\n",
      "Epoch 37/100\n",
      "3/3 [==============================] - 1s 483ms/step - loss: 0.0740 - accuracy: 0.9670 - precision: 0.9683 - recall: 0.9641 - f1_m: 0.9673 - cohen_kappa: 0.9429 - val_loss: 1.0633 - val_accuracy: 0.7414 - val_precision: 0.7442 - val_recall: 0.7356 - val_f1_m: 0.7399 - val_cohen_kappa: 0.5526\n",
      "Epoch 38/100\n",
      "3/3 [==============================] - 1s 474ms/step - loss: 0.0720 - accuracy: 0.9770 - precision: 0.9784 - recall: 0.9756 - f1_m: 0.9746 - cohen_kappa: 0.9600 - val_loss: 1.0916 - val_accuracy: 0.7471 - val_precision: 0.7471 - val_recall: 0.7299 - val_f1_m: 0.7384 - val_cohen_kappa: 0.5612\n",
      "Epoch 39/100\n",
      "3/3 [==============================] - 1s 477ms/step - loss: 0.0791 - accuracy: 0.9713 - precision: 0.9726 - recall: 0.9698 - f1_m: 0.9696 - cohen_kappa: 0.9501 - val_loss: 1.0923 - val_accuracy: 0.7414 - val_precision: 0.7471 - val_recall: 0.7299 - val_f1_m: 0.7384 - val_cohen_kappa: 0.5585\n",
      "Epoch 40/100\n",
      "3/3 [==============================] - 1s 473ms/step - loss: 0.0665 - accuracy: 0.9713 - precision: 0.9712 - recall: 0.9698 - f1_m: 0.9713 - cohen_kappa: 0.9502 - val_loss: 1.1080 - val_accuracy: 0.7356 - val_precision: 0.7440 - val_recall: 0.7184 - val_f1_m: 0.7310 - val_cohen_kappa: 0.5492\n",
      "Epoch 41/100\n",
      "3/3 [==============================] - 1s 498ms/step - loss: 0.0773 - accuracy: 0.9698 - precision: 0.9712 - recall: 0.9684 - f1_m: 0.9698 - cohen_kappa: 0.9476 - val_loss: 1.1252 - val_accuracy: 0.7471 - val_precision: 0.7574 - val_recall: 0.7356 - val_f1_m: 0.7464 - val_cohen_kappa: 0.5639\n",
      "Epoch 42/100\n",
      "3/3 [==============================] - 1s 478ms/step - loss: 0.0757 - accuracy: 0.9756 - precision: 0.9784 - recall: 0.9756 - f1_m: 0.9768 - cohen_kappa: 0.9576 - val_loss: 1.1480 - val_accuracy: 0.7184 - val_precision: 0.7267 - val_recall: 0.7184 - val_f1_m: 0.7225 - val_cohen_kappa: 0.5171\n",
      "Epoch 43/100\n",
      "3/3 [==============================] - 1s 480ms/step - loss: 0.0754 - accuracy: 0.9698 - precision: 0.9698 - recall: 0.9698 - f1_m: 0.9706 - cohen_kappa: 0.9477 - val_loss: 1.1529 - val_accuracy: 0.7529 - val_precision: 0.7544 - val_recall: 0.7414 - val_f1_m: 0.7478 - val_cohen_kappa: 0.5723\n",
      "Epoch 43: early stopping\n",
      "Took : 79.9 (s)\n"
     ]
    }
   ],
   "source": [
    "%reload_ext tensorboard\n",
    "log_folder = 'logstr'\n",
    "time_start = time()\n",
    "hisotry = model.fit(\n",
    "    X_train, y_train, batch_size=256, epochs=100,callbacks=keras_callbacks,validation_data=(X_test, y_test))\n",
    "time_start = time() - time_start\n",
    "\n",
    "print(\"Took : \"+str(np.round(time_start, 2))+\" (s)\") "
   ]
  },
  {
   "cell_type": "code",
   "execution_count": null,
   "id": "183cfff9",
   "metadata": {
    "execution": {
     "iopub.execute_input": "2024-01-05T04:19:30.688983Z",
     "iopub.status.busy": "2024-01-05T04:19:30.688548Z",
     "iopub.status.idle": "2024-01-05T04:19:54.644487Z",
     "shell.execute_reply": "2024-01-05T04:19:54.643294Z"
    },
    "papermill": {
     "duration": 24.005563,
     "end_time": "2024-01-05T04:19:54.646594",
     "exception": false,
     "start_time": "2024-01-05T04:19:30.641031",
     "status": "completed"
    },
    "tags": []
   },
   "outputs": [
    {
     "name": "stdout",
     "output_type": "stream",
     "text": [
      "22/22 [==============================] - 1s 30ms/step - loss: 0.0577 - accuracy: 0.9784 - precision: 0.9784 - recall: 0.9770 - f1_m: 0.9779 - cohen_kappa: 0.9624\n",
      "Training Loss: 0.057733%\n",
      "Training Accuracy: 97.84%\n",
      "Training Precision: 97.84%\n",
      "Training Recall: 97.70%\n",
      "Training F1 Score: 97.79%\n",
      "Training Cohen Kappa: 96.24%\n"
     ]
    }
   ],
   "source": [
    "scores_trainig = model.evaluate(X_train, y_train, verbose=1)\n",
    "print(\"Training Loss: %f%%\" % (scores_trainig[0]))\n",
    "print(\"Training Accuracy: %.2f%%\" % (scores_trainig[1]*100))\n",
    "print(\"Training Precision: %.2f%%\" % (scores_trainig[2]*100))\n",
    "print(\"Training Recall: %.2f%%\" % (scores_trainig[3]*100))\n",
    "print(\"Training F1 Score: %.2f%%\" % (scores_trainig[4]*100))\n",
    "print(\"Training Cohen Kappa: %.2f%%\" % (scores_trainig[5]*100))"
   ]
  },
  {
   "cell_type": "code",
   "execution_count": null,
   "id": "575756b4",
   "metadata": {
    "execution": {
     "iopub.execute_input": "2024-01-05T04:19:54.744889Z",
     "iopub.status.busy": "2024-01-05T04:19:54.743929Z",
     "iopub.status.idle": "2024-01-05T04:19:54.938756Z",
     "shell.execute_reply": "2024-01-05T04:19:54.937574Z"
    },
    "papermill": {
     "duration": 0.245549,
     "end_time": "2024-01-05T04:19:54.941277",
     "exception": false,
     "start_time": "2024-01-05T04:19:54.695728",
     "status": "completed"
    },
    "tags": []
   },
   "outputs": [
    {
     "name": "stdout",
     "output_type": "stream",
     "text": [
      "6/6 [==============================] - 0s 21ms/step - loss: 1.1529 - accuracy: 0.7529 - precision: 0.7544 - recall: 0.7414 - f1_m: 0.7514 - cohen_kappa: 0.5723\n",
      "Test Loss: 1.152943%\n",
      "Test Accuracy: 75.29%\n",
      "Test Precision: 75.44%\n",
      "Test Recall: 74.14%\n",
      "Test F1 Score: 75.14%\n",
      "Test Cohen Kappa: 57.23%\n"
     ]
    }
   ],
   "source": [
    "scores_test = model.evaluate(X_test, y_test, verbose=1)\n",
    "print(\"Test Loss: %f%%\" % (scores_test[0]))\n",
    "print(\"Test Accuracy: %.2f%%\" % (scores_test[1]*100))\n",
    "print(\"Test Precision: %.2f%%\" % (scores_test[2]*100))\n",
    "print(\"Test Recall: %.2f%%\" % (scores_test[3]*100))\n",
    "print(\"Test F1 Score: %.2f%%\" % (scores_test[4]*100))\n",
    "print(\"Test Cohen Kappa: %.2f%%\" % (scores_test[5]*100))"
   ]
  },
  {
   "cell_type": "code",
   "execution_count": null,
   "id": "ba5fa09e",
   "metadata": {
    "execution": {
     "iopub.execute_input": "2024-01-05T04:19:55.038066Z",
     "iopub.status.busy": "2024-01-05T04:19:55.037635Z",
     "iopub.status.idle": "2024-01-05T04:19:56.314660Z",
     "shell.execute_reply": "2024-01-05T04:19:56.313507Z"
    },
    "papermill": {
     "duration": 1.32872,
     "end_time": "2024-01-05T04:19:56.317172",
     "exception": false,
     "start_time": "2024-01-05T04:19:54.988452",
     "status": "completed"
    },
    "tags": []
   },
   "outputs": [
    {
     "name": "stdout",
     "output_type": "stream",
     "text": [
      "dict_keys(['loss', 'accuracy', 'precision', 'recall', 'f1_m', 'cohen_kappa', 'val_loss', 'val_accuracy', 'val_precision', 'val_recall', 'val_f1_m', 'val_cohen_kappa'])\n"
     ]
    },
    {
     "data": {
      "image/png": "[encoded data removed]",
      "text/plain": [
       "<Figure size 640x480 with 1 Axes>"
      ]
     },
     "metadata": {},
     "output_type": "display_data"
    },
    {
     "data": {
      "image/png": "[encoded data removed]",
      "text/plain": [
       "<Figure size 640x480 with 1 Axes>"
      ]
     },
     "metadata": {},
     "output_type": "display_data"
    },
    {
     "data": {
      "image/png": "[encoded data removed]",
      "text/plain": [
       "<Figure size 640x480 with 1 Axes>"
      ]
     },
     "metadata": {},
     "output_type": "display_data"
    },
    {
     "data": {
      "image/png": "[encoded data removed]",
      "text/plain": [
       "<Figure size 640x480 with 1 Axes>"
      ]
     },
     "metadata": {},
     "output_type": "display_data"
    }
   ],
   "source": [
    "'''\n",
    "%reload_ext tensorboard\n",
    "log_folder = 'logstr'\n",
    "%tensorboard --logdir={log_folder}\n",
    "\n",
    "'''\n",
    "import matplotlib.pyplot as plt\n",
    "print(hisotry.history.keys())\n",
    "\n",
    "# summarize history for accuracy\n",
    "plt.plot(hisotry.history['accuracy'])\n",
    "plt.plot(hisotry.history['val_accuracy'])\n",
    "plt.title('model accuracy')\n",
    "plt.ylabel('accuracy')\n",
    "plt.xlabel('epoch')\n",
    "plt.legend(['train', 'test'], loc='upper left')\n",
    "plt.show()\n",
    "# summarize history for loss\n",
    "plt.plot(hisotry.history['loss'])\n",
    "plt.plot(hisotry.history['val_loss'])\n",
    "plt.title('model loss')\n",
    "plt.ylabel('loss')\n",
    "plt.xlabel('epoch')\n",
    "plt.legend(['train', 'test'], loc='upper left')\n",
    "plt.show()\n",
    "# summarize history for kappa\n",
    "plt.plot(hisotry.history['cohen_kappa'])\n",
    "plt.plot(hisotry.history['val_cohen_kappa'])\n",
    "plt.title('model loss')\n",
    "plt.ylabel('cohen_kappa')\n",
    "plt.xlabel('epoch')\n",
    "plt.legend(['train', 'test'], loc='upper left')\n",
    "plt.show()\n",
    "\n",
    "# summarize history for kappa\n",
    "plt.plot(hisotry.history['f1_m'])\n",
    "plt.plot(hisotry.history['val_f1_m'])\n",
    "plt.title('model F1')\n",
    "plt.ylabel('cohen_kappa')\n",
    "plt.xlabel('epoch')\n",
    "plt.legend(['train', 'test'], loc='upper left')\n",
    "plt.show()\n"
   ]
  },
  {
   "cell_type": "code",
   "execution_count": null,
   "id": "96ef40d8",
   "metadata": {
    "papermill": {
     "duration": 0.049003,
     "end_time": "2024-01-05T04:19:56.416644",
     "exception": false,
     "start_time": "2024-01-05T04:19:56.367641",
     "status": "completed"
    },
    "tags": []
   },
   "outputs": [],
   "source": []
  }
 ],
 "metadata": {
  "kaggle": {
   "accelerator": "none",
   "dataSources": [
    {
     "datasetId": 4255819,
     "sourceId": 7331338,
     "sourceType": "datasetVersion"
    },
    {
     "datasetId": 4261029,
     "sourceId": 7339178,
     "sourceType": "datasetVersion"
    }
   ],
   "dockerImageVersionId": 30626,
   "isGpuEnabled": false,
   "isInternetEnabled": true,
   "language": "python",
   "sourceType": "notebook"
  },
  "kernelspec": {
   "display_name": "Python 3",
   "language": "python",
   "name": "python3"
  },
  "language_info": {
   "codemirror_mode": {
    "name": "ipython",
    "version": 3
   },
   "file_extension": ".py",
   "mimetype": "text/x-python",
   "name": "python",
   "nbconvert_exporter": "python",
   "pygments_lexer": "ipython3",
   "version": "3.10.9"
  },
  "papermill": {
   "default_parameters": {},
   "duration": 413.631402,
   "end_time": "2024-01-05T04:19:59.346239",
   "environment_variables": {},
   "exception": null,
   "input_path": "__notebook__.ipynb",
   "output_path": "__notebook__.ipynb",
   "parameters": {},
   "start_time": "2024-01-05T04:13:05.714837",
   "version": "2.4.0"
  }
 },
 "nbformat": 4,
 "nbformat_minor": 5
}
